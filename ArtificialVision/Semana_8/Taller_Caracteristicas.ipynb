{
 "cells": [
  {
   "cell_type": "markdown",
   "metadata": {},
   "source": [
    "# Actividad\n",
    "\n",
    "Cree una función **features_pipeline** que reciba la imagen original segmentada del taller de repaso y su máscara, a partir de estas calcule los descriptores de forma vistos anteriormente (basta con momentos de Hu) y los guarde en un diccionario junto con los descriptores de color y textura vistos en la sección anterior."
   ]
  },
  {
   "cell_type": "code",
   "execution_count": 1,
   "metadata": {},
   "outputs": [],
   "source": [
    "# Importamos todas las librerias necesarias\n",
    "import numpy as np\n",
    "import matplotlib.pyplot as plt\n",
    "import cv2\n",
    "import skimage.morphology as morph\n",
    "from skimage.measure import label, regionprops\n",
    "from scipy.stats import kurtosis, skew"
   ]
  },
  {
   "cell_type": "code",
   "execution_count": null,
   "metadata": {},
   "outputs": [],
   "source": [
    "def get_momentsHu(mask):\n",
    "    list_hu = []\n",
    "    mask_label = label(mask)\n",
    "    regions = regionprops(mask_label)\n",
    "    for region in regions:\n",
    "        dict_hu = {}\n",
    "        counter = 0\n",
    "        for moment in region.moments_hu:\n",
    "            dict_hu['hu'+str(counter)+str(region.label)] = moment\n",
    "            counter += 1\n",
    "        list_hu.append(dict_hu)\n",
    "    return list_hu"
   ]
  },
  {
   "cell_type": "code",
   "execution_count": null,
   "metadata": {},
   "outputs": [],
   "source": [
    "def get_first_order_stats(img, mask):\n",
    "    list_stats = []\n",
    "    r = img[:,:,0]\n",
    "    g = img[:,:,1]\n",
    "    b = img[:,:,2]\n",
    "    r_1 = []\n",
    "    g_1 = []\n",
    "    b_1 = []\n",
    "    #Recorrer las posiciones i,j de la matriz de la imagen de entrada\n",
    "    for i in range(img.shape[0]):\n",
    "        for j in range(img.shape[1]):\n",
    "            #Condicional, si la máscara en la posición i,j es un array de True, añadir\n",
    "            #a cada canal del nuevo espacio RGB el píxel en esta posición\n",
    "            if( (mask[i][j] == np.array([True, True, True])).all() ):\n",
    "                r_1.append(r[i][j])\n",
    "                g_1.append(g[i][j])\n",
    "                b_1.append(b[i][j])\n",
    "\n",
    "    channels = [r_1, g_1, b_1]\n",
    "    \n",
    "    for img_channel in channels:\n",
    "        dict_stats = {}\n",
    "        dict_stats['mean'] = np.mean(img_channel)\n",
    "        dict_stats['std'] = np.std(img_channel)\n",
    "        dict_stats['kurtosis'] = kurtosis(img_channel)\n",
    "        dict_stats['skewer'] = skew(img_channel)\n",
    "        list_stats.append(dict_stats)\n",
    "    \n",
    "    return list_stats\n"
   ]
  },
  {
   "cell_type": "code",
   "execution_count": null,
   "metadata": {},
   "outputs": [],
   "source": [
    "def features_pipeline(img, mask, features_list):\n",
    "    hu_moments = get_momentsHu(mask)\n",
    "    basic_stats = get_first_order_stats(img)"
   ]
  },
  {
   "cell_type": "code",
   "execution_count": null,
   "metadata": {},
   "outputs": [],
   "source": [
    "img_wheel = cv2.cvtColor(cv2.imread('Repaso/llanta_segmentada.jpg'))\n",
    "mask_wheel = cv2.cvtColor(cv2.imread('Repaso/llanta_mask.jpg'))"
   ]
  }
 ],
 "metadata": {
  "kernelspec": {
   "display_name": "courseImageProcess",
   "language": "python",
   "name": "python3"
  },
  "language_info": {
   "codemirror_mode": {
    "name": "ipython",
    "version": 3
   },
   "file_extension": ".py",
   "mimetype": "text/x-python",
   "name": "python",
   "nbconvert_exporter": "python",
   "pygments_lexer": "ipython3",
   "version": "3.12.7"
  }
 },
 "nbformat": 4,
 "nbformat_minor": 2
}

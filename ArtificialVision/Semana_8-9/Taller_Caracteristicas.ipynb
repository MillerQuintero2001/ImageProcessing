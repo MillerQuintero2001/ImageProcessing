{
 "cells": [
  {
   "cell_type": "markdown",
   "metadata": {},
   "source": [
    "# Actividad\n",
    "\n",
    "Cree una función **features_pipeline** que reciba la imagen original segmentada del taller de repaso y su máscara, a partir de estas calcule los descriptores de forma vistos anteriormente (basta con momentos de Hu) y los guarde en un diccionario junto con los descriptores de color y textura vistos en la sección anterior."
   ]
  },
  {
   "cell_type": "code",
   "execution_count": 1,
   "metadata": {},
   "outputs": [],
   "source": [
    "# Importamos todas las librerías necesarias\n",
    "import numpy as np\n",
    "import matplotlib.pyplot as plt\n",
    "import cv2\n",
    "import math\n",
    "from skimage.measure import label, regionprops\n",
    "from scipy.stats import kurtosis, skew\n",
    "import pandas as pd"
   ]
  },
  {
   "cell_type": "code",
   "execution_count": 2,
   "metadata": {},
   "outputs": [],
   "source": [
    "def get_momentsHu(mask_region):\n",
    "    dict_hu = {}\n",
    "    for i,moment in enumerate(mask_region.moments_hu):\n",
    "        # Redondeo a 3 decimales\n",
    "        dict_hu['hu'+str(i)] = round(-1 * math.copysign(1, moment) * math.log10(abs(moment)), 3)\n",
    "    return dict_hu"
   ]
  },
  {
   "cell_type": "code",
   "execution_count": 3,
   "metadata": {},
   "outputs": [],
   "source": [
    "def get_first_order_stats(img, mask_region):\n",
    "    dict_stats = {}\n",
    "    r = img[:,:,0]\n",
    "    g = img[:,:,1]\n",
    "    b = img[:,:,2]\n",
    "    r_1 = []\n",
    "    g_1 = []\n",
    "    b_1 = []\n",
    "    # Recorrer las posiciones 'i,j' de la matriz de la máscara\n",
    "    for i in range(img.shape[0]):\n",
    "        for j in range(img.shape[1]):\n",
    "            # Condicional para que solo los pixeles en las coordenas 'i,j' de la máscara sean añadidos\n",
    "            if( (mask_region[i][j] == np.array([True, True, True])).all() ):\n",
    "                r_1.append(r[i][j])\n",
    "                g_1.append(g[i][j])\n",
    "                b_1.append(b[i][j])\n",
    "\n",
    "    channels = [r_1, g_1, b_1]\n",
    "    channel_symbol = ['_r', '_g', '_b']\n",
    "    for i,img_channel in enumerate(channels):\n",
    "        \n",
    "        # Redondeo a 3 decimales\n",
    "        dict_stats['mean' + channel_symbol[i]] = round(np.mean(img_channel), 3)\n",
    "        dict_stats['std' + channel_symbol[i]] = round(np.std(img_channel), 3)\n",
    "        dict_stats['kurtosis' + channel_symbol[i]] = round(kurtosis(img_channel), 3)\n",
    "        dict_stats['skewness' + channel_symbol[i]] = round(skew(img_channel), 3)\n",
    "    \n",
    "    return dict_stats\n"
   ]
  },
  {
   "cell_type": "code",
   "execution_count": 4,
   "metadata": {},
   "outputs": [],
   "source": [
    "def features_pipeline(img_segm, mask, features_list):\n",
    "    img_labels = label(mask)\n",
    "    # Cuento cuantos objetos hay (este método no incluye el fondo)\n",
    "    num_regions = len(regionprops(img_labels))\n",
    "\n",
    "    # El rango comienza desde 1 pues, la funcion 'label' pone SIEMPRE en la primera etiqueta el fondo\n",
    "    for i in range(1,num_regions+1):\n",
    "        # Obtenemos la máscara con solo el i-ésimo objeto detectado por 'label' originalmente\n",
    "        mask_input = (img_labels==i)*mask\n",
    "        moments_input = regionprops(label(mask_input))\n",
    "\n",
    "        # Como se hace 'regionprops' de un solo objeto, solo se toma el primer elemento\n",
    "        charecteristics_dict = get_momentsHu(moments_input[0])\n",
    "        \n",
    "        # Sacamos ahora el objeto/cuerpo segmentado a color\n",
    "        img_segm_input = cv2.bitwise_and(img_segm, img_segm, mask = mask_input.astype(np.uint8))\n",
    "\n",
    "        # Calculamos estadísticas de primer orden\n",
    "        charecteristics_dict.update(get_first_order_stats(img_segm_input, mask_input))\n",
    "\n",
    "        features_list.append(charecteristics_dict)"
   ]
  },
  {
   "cell_type": "code",
   "execution_count": 5,
   "metadata": {},
   "outputs": [
    {
     "name": "stdout",
     "output_type": "stream",
     "text": [
      "{'hu0': 0.657, 'hu1': 1.647, 'hu2': 4.337, 'hu3': 5.43, 'hu4': -10.321, 'hu5': -6.26, 'hu6': -11.047, 'mean_r': 39.447, 'std_r': 22.483, 'kurtosis_r': 2.442, 'skewness_r': 1.136, 'mean_g': 51.407, 'std_g': 22.388, 'kurtosis_g': 1.664, 'skewness_g': 0.713, 'mean_b': 67.063, 'std_b': 23.992, 'kurtosis_b': 0.836, 'skewness_b': 0.266}\n",
      "{'hu0': 0.611, 'hu1': 1.468, 'hu2': 5.89, 'hu3': 6.636, 'hu4': 13.002, 'hu5': 7.62, 'hu6': -13.111, 'mean_r': 50.725, 'std_r': 27.494, 'kurtosis_r': 0.749, 'skewness_r': 0.788, 'mean_g': 63.703, 'std_g': 27.631, 'kurtosis_g': 0.421, 'skewness_g': 0.678, 'mean_b': 80.627, 'std_b': 28.513, 'kurtosis_b': 0.041, 'skewness_b': 0.579}\n"
     ]
    }
   ],
   "source": [
    "img_wheel = cv2.cvtColor(cv2.imread('Repaso/llanta_segmentada.jpg'), cv2.COLOR_BGR2RGB)\n",
    "# Es necesario garantizar la binarización\n",
    "mask_wheel = cv2.imread('Repaso/llanta_mask.jpg', cv2.IMREAD_GRAYSCALE) > 127\n",
    "features_total = []\n",
    "features_pipeline(img_wheel, mask_wheel, features_total)\n",
    "for features_set in features_total: \n",
    "    print(features_set)"
   ]
  },
  {
   "cell_type": "code",
   "execution_count": 6,
   "metadata": {},
   "outputs": [],
   "source": [
    "columns = list(features_total[0].keys())\n",
    "columns.append('class')\n",
    "\n",
    "# Creamos el dataFrame\n",
    "df = pd.DataFrame(columns=columns)\n",
    "\n",
    "# Iteramos sobre la lista con diccionarios de características para cada objeto\n",
    "\n",
    "for i in range(0,len(features_total)):\n",
    "    # Se anexa la lista [i] ya que la última columna del dataFrame es 'class'\n",
    "    df.loc[i] = [features_total[i][feature] for feature in features_total[i].keys()]+[i]\n",
    "\n",
    "# Exportamos dataFrame a csv\n",
    "df.to_csv('dataWheels.csv')"
   ]
  }
 ],
 "metadata": {
  "kernelspec": {
   "display_name": "courseImageProcess",
   "language": "python",
   "name": "python3"
  },
  "language_info": {
   "codemirror_mode": {
    "name": "ipython",
    "version": 3
   },
   "file_extension": ".py",
   "mimetype": "text/x-python",
   "name": "python",
   "nbconvert_exporter": "python",
   "pygments_lexer": "ipython3",
   "version": "3.12.7"
  }
 },
 "nbformat": 4,
 "nbformat_minor": 2
}
